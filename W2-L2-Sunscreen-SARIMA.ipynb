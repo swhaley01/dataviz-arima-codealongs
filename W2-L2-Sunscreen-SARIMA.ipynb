{
 "cells": [
  {
   "cell_type": "markdown",
   "id": "7ac269f2-2c9b-417e-ba41-d4d773a04cc0",
   "metadata": {},
   "source": [
    "# Data Visualization: Week 2, Lecture 2\n",
    "\n",
    "#### About the dataset\n",
    "- Data obtained using Google Trends https://trends.google.com/trends/explore?date=all&geo=US&q=sunscreen&hl=en\n",
    "- Access CSV here:  https://drive.google.com/file/d/1DS9_ENBsMZB7Mjd-WljuT7H2YSZ2PtF0/view?usp=sharing\n",
    "- Dataset as of November 2023 also in repo as `sunscreen_popularity.txt` in `data` subfolder.\n",
    "\n",
    "#### Learning Objectives\n",
    "- Identify order of seasonal ARIMA model\n",
    "- Fit and evaluate seasonal ARIMA models\n",
    "- Compare multiple ARIMA models using diagnostic plots and evaluation metrics"
   ]
  },
  {
   "cell_type": "markdown",
   "id": "468aa497-89a5-45f3-8eeb-46d9d17e3620",
   "metadata": {},
   "source": [
    "## Imports"
   ]
  },
  {
   "cell_type": "code",
   "execution_count": null,
   "id": "93d4e6b8-d331-4fdd-8732-5a59388eceee",
   "metadata": {},
   "outputs": [],
   "source": [
    "import pandas as pd\n",
    "import numpy as np\n",
    "\n",
    "import matplotlib as mpl\n",
    "import matplotlib.pyplot as plt\n",
    "import seaborn as sns\n",
    "\n",
    "import pmdarima as pm\n",
    "from pmdarima.arima.utils import ndiffs, nsdiffs\n",
    "from pmdarima.model_selection import train_test_split\n",
    "\n",
    "from sklearn import set_config\n",
    "from sklearn.linear_model import LinearRegression\n",
    "from sklearn.metrics import (\n",
    "    mean_absolute_error,\n",
    "    mean_absolute_percentage_error,\n",
    "    mean_squared_error,\n",
    "    r2_score,\n",
    ")\n",
    "\n",
    "import statsmodels.tsa.api as tsa\n",
    "\n",
    "#set_config(transform_output=\"pandas\")\n",
    "plt.rcParams[\"figure.figsize\"] = (12, 4)\n",
    "sns.set_context(\"talk\", font_scale=0.9)\n",
    "\n",
    "# set random seed\n",
    "SEED = 321\n",
    "np.random.seed(SEED)"
   ]
  },
  {
   "cell_type": "markdown",
   "id": "9f7ca57d-ae6f-434b-a6fd-3063c121aa73",
   "metadata": {},
   "source": [
    "## Custom Functions"
   ]
  },
  {
   "cell_type": "code",
   "execution_count": null,
   "id": "3dfa2d9f-f1cb-4cf5-9330-a3938447d461",
   "metadata": {},
   "outputs": [],
   "source": [
    "def plot_forecast(ts_train, ts_test, forecast_df, n_train_lags=None, \n",
    "                  figsize=(10,4), title='Comparing Forecast vs. True Data'):\n",
    "    \n",
    "### PLot training data, and forecast (with upper/,lower ci)\n",
    "    fig, ax = plt.subplots(figsize=figsize)\n",
    "\n",
    "    # setting the number of train lags to plot if not specified\n",
    "    if n_train_lags == None:\n",
    "        n_train_lags = len(ts_train)\n",
    "\n",
    "    # Plotting Training  and test data\n",
    "    ts_train.iloc[-n_train_lags:].plot(ax=ax, label=\"train\")\n",
    "    ts_test.plot(label=\"test\", ax=ax)\n",
    "\n",
    "    # Plot forecast\n",
    "    forecast_df[\"mean\"].plot(ax=ax, color=\"green\", label=\"forecast\")\n",
    "\n",
    "    # Add the shaded confidence interval\n",
    "    ax.fill_between(\n",
    "        forecast_df.index,\n",
    "        forecast_df[\"mean_ci_lower\"],\n",
    "        forecast_df[\"mean_ci_upper\"],\n",
    "        color=\"green\",\n",
    "        alpha=0.3,\n",
    "        lw=2,\n",
    "    )\n",
    "\n",
    "    # set the title and add legend\n",
    "    ax.set_title(title)\n",
    "    ax.legend()\n",
    "\n",
    "    return fig, ax\n"
   ]
  },
  {
   "cell_type": "code",
   "execution_count": null,
   "id": "93c73c34-f550-4098-848b-8d60a8518a02",
   "metadata": {},
   "outputs": [],
   "source": [
    "# Custom function for Ad Fuller Test\n",
    "def get_adfuller_results(ts, alpha=.05, label='adfuller', **kwargs): #kwargs for adfuller()\n",
    "    # Saving each output\n",
    "    (test_stat, pval, nlags, nobs, crit_vals_d, icbest) = tsa.adfuller(ts, **kwargs)\n",
    "    \n",
    "    # Converting output to a dictionary with the interpretation of p\n",
    "    adfuller_results = {\n",
    "        \"Test Statistic\": test_stat,\n",
    "        \"# of Lags Used\": nlags,\n",
    "        \"# of Observations\": nobs,\n",
    "        \"p-value\": round(pval, 6),\n",
    "        \"alpha\": alpha,\n",
    "        \"sig/stationary?\": pval < alpha,\n",
    "    }\n",
    "    \n",
    "    return pd.DataFrame(adfuller_results, index=[label])"
   ]
  },
  {
   "cell_type": "code",
   "execution_count": null,
   "id": "4d395671-8c1b-49c5-b7e4-7e1bb0c3d0cd",
   "metadata": {},
   "outputs": [],
   "source": [
    "def regression_metrics_ts(ts_true, ts_pred, label=\"\", verbose=True, output_dict=False,):\n",
    "    # Get metrics\n",
    "    mae = mean_absolute_error(ts_true, ts_pred)\n",
    "    mse = mean_squared_error(ts_true, ts_pred)\n",
    "    rmse = mean_squared_error(ts_true, ts_pred, squared=False)\n",
    "    r_squared = r2_score(ts_true, ts_pred)\n",
    "    mae_perc = mean_absolute_percentage_error(ts_true, ts_pred) * 100\n",
    "\n",
    "    if verbose == True:\n",
    "        # Print Result with label\n",
    "        header = \"---\" * 20\n",
    "        print(header, f\"Regression Metrics: {label}\", header, sep=\"\\n\")\n",
    "        print(f\"- MAE = {mae:,.3f}\")\n",
    "        print(f\"- MSE = {mse:,.3f}\")\n",
    "        print(f\"- RMSE = {rmse:,.3f}\")\n",
    "        print(f\"- R^2 = {r_squared:,.3f}\")\n",
    "        print(f\"- MAPE = {mae_perc:,.2f}%\")\n",
    "\n",
    "    if output_dict == True:\n",
    "        metrics = {\n",
    "            \"Label\": label,\n",
    "            \"MAE\": mae,\n",
    "            \"MSE\": mse,\n",
    "            \"RMSE\": rmse,\n",
    "            \"R^2\": r_squared,\n",
    "            \"MAPE(%)\": mae_perc,\n",
    "        }\n",
    "        return metrics"
   ]
  },
  {
   "cell_type": "code",
   "execution_count": null,
   "id": "8be82f6e-8295-4988-b5f8-ea74d935bb2a",
   "metadata": {},
   "outputs": [],
   "source": [
    "def plot_acf_pacf(ts, nlags=40, figsize=(10, 5), \n",
    "                  annotate_sig=False, alpha=.05,\n",
    "                  acf_kws={}, pacf_kws={},  \n",
    "                  annotate_seas=False, m = None,\n",
    "                  seas_color='black'):\n",
    "\n",
    "    fig, axes = plt.subplots(nrows=2, figsize=figsize)\n",
    "\n",
    "    # Sig lags line style\n",
    "    sig_vline_kwargs = dict(ls=\":\", lw=1, zorder=0, color=\"red\")\n",
    "\n",
    "    # ACF\n",
    "    tsa.graphics.plot_acf(ts, ax=axes[0], lags=nlags, **acf_kws)\n",
    "\n",
    "    ## Annotating sig acf lags\n",
    "    if annotate_sig == True:\n",
    "        sig_acf_lags = get_sig_lags(ts, nlags=nlags, alpha=alpha, type=\"ACF\")\n",
    "        for lag in sig_acf_lags:\n",
    "            axes[0].axvline(lag, label=\"sig\", **sig_vline_kwargs)\n",
    "\n",
    "    # PACF\n",
    "    tsa.graphics.plot_pacf(ts, ax=axes[1], lags=nlags, **pacf_kws)\n",
    "\n",
    "    ## Annotating sig pacf lags\n",
    "    if annotate_sig == True:\n",
    "        ## ANNOTATING SIG LAGS\n",
    "        sig_pacf_lags = get_sig_lags(ts, nlags=nlags, alpha=alpha, type=\"PACF\")\n",
    "        for lag in sig_pacf_lags:\n",
    "            axes[1].axvline(lag, label=\"sig\", **sig_vline_kwargs)\n",
    "\n",
    "    ### ANNOTATE SEASONS\n",
    "    if annotate_seas == True:\n",
    "        # Ensure m was defined\n",
    "        if m is None:\n",
    "            raise Exception(\"Must define value of m if annotate_seas=True.\")\n",
    "\n",
    "        ## Calculate number of complete seasons to annotate\n",
    "        n_seasons = nlags // m\n",
    "\n",
    "        # Seasonal Lines style\n",
    "        seas_vline_kwargs = dict(ls=\"--\", lw=1, alpha=0.7, color=seas_color, zorder=-1)\n",
    "\n",
    "        ## for each season, add a line\n",
    "        for i in range(1, n_seasons + 1):\n",
    "            axes[0].axvline(m * i, **seas_vline_kwargs, label=\"season\")\n",
    "            axes[1].axvline(m * i, **seas_vline_kwargs, label=\"season\")\n",
    "\n",
    "    fig.tight_layout()\n",
    "\n",
    "    return fig"
   ]
  },
  {
   "cell_type": "markdown",
   "id": "c514106e-4d4c-47dc-98fd-a642a48cea3a",
   "metadata": {},
   "source": [
    "## Load and Transform Data\n",
    "\n",
    "- Load in the data, using `skiprows=[0]`\n",
    "- Rename the column containing the data to \"popularity\"\n",
    "- Convert the data column to a datetime column, then set as index\n",
    "- Convert `popularity` column to float datatype\n",
    "- Set time series as variable called `ts`\n",
    "- Set frequency on time series index as `MS`\n",
    "- Plot time series and check for nulls"
   ]
  },
  {
   "cell_type": "code",
   "execution_count": null,
   "id": "7d17bcaf-5fa8-4348-9068-54e78ad45530",
   "metadata": {},
   "outputs": [],
   "source": [
    "# sunscreen\n",
    "df_sun = pd.read_csv('data/sunscreen_popularity.txt', skiprows= [0])\n",
    "df_sun.head()"
   ]
  },
  {
   "cell_type": "code",
   "execution_count": null,
   "id": "c9753126-0a4f-45fe-9233-0181fe9e90de",
   "metadata": {},
   "outputs": [],
   "source": [
    "df_sun.rename(\n",
    "    columns = {'Month': 'date', 'sunscreen: (United States)': 'popularity'},\n",
    "    inplace = True\n",
    ")\n",
    "df_sun.head()"
   ]
  },
  {
   "cell_type": "code",
   "execution_count": null,
   "id": "a116e62a-7cc3-40b9-a17f-b677a89cbb29",
   "metadata": {},
   "outputs": [],
   "source": [
    "# Make data a DateTime Object\n"
   ]
  },
  {
   "cell_type": "code",
   "execution_count": null,
   "id": "6928dd9a-7f45-4ab7-a81f-7ee19c179b47",
   "metadata": {},
   "outputs": [],
   "source": [
    "# Set index as date\n"
   ]
  },
  {
   "cell_type": "code",
   "execution_count": null,
   "id": "3792ee63-649a-4077-a31d-07ff2fa73771",
   "metadata": {},
   "outputs": [],
   "source": [
    "# Change datatype of popularity to float\n"
   ]
  },
  {
   "cell_type": "code",
   "execution_count": null,
   "id": "06cf5cbd-1249-4789-8513-53dc37524705",
   "metadata": {},
   "outputs": [],
   "source": [
    "# Define the time series as ts\n"
   ]
  },
  {
   "cell_type": "code",
   "execution_count": null,
   "id": "396e1475-9979-4f7f-bcd5-980c2b1f9239",
   "metadata": {},
   "outputs": [],
   "source": [
    "# Set the frequency to the start of the month (does not require resampling)\n"
   ]
  },
  {
   "cell_type": "code",
   "execution_count": null,
   "id": "cc6a0378-bc73-44ac-a0ff-adc78197569c",
   "metadata": {},
   "outputs": [],
   "source": [
    "# Visualize the ts\n"
   ]
  },
  {
   "cell_type": "code",
   "execution_count": null,
   "id": "831def01-c05b-44b6-b23d-19d1baace65e",
   "metadata": {},
   "outputs": [],
   "source": [
    "# Check for nulls\n"
   ]
  },
  {
   "cell_type": "markdown",
   "id": "2dbf9512-349c-4b60-9289-63a58e3c47e0",
   "metadata": {},
   "source": [
    "## Determine Seasonality\n",
    "\n",
    "- Use `tsa.seasonal_decompose()` to visualize trend and seasonal elements\n",
    "- Calculate the seasonal delta and account for how much variation it describes\n",
    "- Plot the seasonal component\n",
    "- Identify the order of seasonality"
   ]
  },
  {
   "cell_type": "code",
   "execution_count": null,
   "id": "d3534f12-1642-472c-a2ac-8f1f535eff40",
   "metadata": {},
   "outputs": [],
   "source": [
    "# Apply seasonal decomposition\n"
   ]
  },
  {
   "cell_type": "code",
   "execution_count": null,
   "id": "a1ac1927-4a2e-405f-810a-4846531a3c23",
   "metadata": {},
   "outputs": [],
   "source": [
    "# How big is the seasonal component\n",
    "seasonal_delta = \n",
    "\n",
    "# How big is the seasonal component relative to the time series?\n",
    "print(f\"The seasonal component is {seasonal_delta: .2f} which is ~{seasonal_delta/(ts.max()-ts.min())[0] * 100 :.2f}% of the variation in time series.\")"
   ]
  },
  {
   "cell_type": "code",
   "execution_count": null,
   "id": "70dd933e-1029-41e8-a2c1-310a10f2b8e5",
   "metadata": {},
   "outputs": [],
   "source": [
    "# Narrow down the date range of the plot\n"
   ]
  },
  {
   "cell_type": "code",
   "execution_count": null,
   "id": "cd93ea8a-02e9-48a9-9ae3-0f412b7ce2de",
   "metadata": {},
   "outputs": [],
   "source": [
    "# From domain knowledge & counting the observations, we identify the order is 12"
   ]
  },
  {
   "cell_type": "markdown",
   "id": "3c21f4f6-bde3-4ae7-b242-46851b0e7a13",
   "metadata": {},
   "source": [
    "## Determine Stationarity/Differencing\n",
    "\n",
    "- Use the augmented Dickey-Fuller to test for stationarity\n",
    "- If necessary, find the order of differencing using `ndiffs`\n",
    "- Identify the order of seasonal differencing using `nsdiffs`\n",
    "- Save a differenced version of the data and plot"
   ]
  },
  {
   "cell_type": "code",
   "execution_count": null,
   "id": "c4fd2a1a-87b3-4135-96af-3c9476e4d5eb",
   "metadata": {},
   "outputs": [],
   "source": [
    "# Testing the raw data for stationarity\n"
   ]
  },
  {
   "cell_type": "code",
   "execution_count": null,
   "id": "c5eceadc-bc46-4b48-8feb-00c0b764be56",
   "metadata": {},
   "outputs": [],
   "source": [
    "# use ndiffs to determine differencing\n"
   ]
  },
  {
   "cell_type": "code",
   "execution_count": null,
   "id": "4c1a55c8-7174-4361-a7fc-e0fae3df683f",
   "metadata": {},
   "outputs": [],
   "source": [
    "# Determine D\n"
   ]
  },
  {
   "cell_type": "code",
   "execution_count": null,
   "id": "443ef5dd-f638-4510-a9ce-3dcc9e79fe68",
   "metadata": {},
   "outputs": [],
   "source": [
    "# apply both differencings\n"
   ]
  },
  {
   "cell_type": "markdown",
   "id": "3a2bbea1-7af2-4d2a-aebc-b5679de2d2fa",
   "metadata": {},
   "source": [
    "## Determine Initial Model Orders\n",
    "\n",
    "- Plot the ACF and PACF of the differenced data\n",
    "- Identify possible model orders"
   ]
  },
  {
   "cell_type": "code",
   "execution_count": null,
   "id": "bfbf73a6-5cf0-46a9-86b1-89408e30f571",
   "metadata": {},
   "outputs": [],
   "source": [
    "# We can use our function to highlight the seasonal lags by adding the arguments\n"
   ]
  },
  {
   "cell_type": "code",
   "execution_count": null,
   "id": "628d346a-66fc-40b9-a056-be568ba80930",
   "metadata": {},
   "outputs": [],
   "source": [
    "# nonseasonal- PACF drops off after 2\n",
    "# seasonal - looks like s ACF drops off after 1"
   ]
  },
  {
   "cell_type": "markdown",
   "id": "e0c27e8b-8864-4b0b-b8e0-4429f358e1ec",
   "metadata": {},
   "source": [
    "## Train Test Split\n",
    "\n",
    "- Split the data into training and testing subsets. The test set should be one year of data\n",
    "- Plot the train and test sets"
   ]
  },
  {
   "cell_type": "code",
   "execution_count": null,
   "id": "3759dac6-5ba0-42bd-83e9-4980b3687a5c",
   "metadata": {},
   "outputs": [],
   "source": [
    "# tts--goal is to predict next year so 12 months\n"
   ]
  },
  {
   "cell_type": "markdown",
   "id": "8895e89f-7dcb-44b5-9fa7-4f71d08aae43",
   "metadata": {},
   "source": [
    "## Modeling\n",
    "\n",
    "- Start with an initial model using manually chosen non-seasonal and seasonal orders\n",
    "- Fit a seasonal ARIMA\n",
    "- Generate a forecast dataframe\n",
    "- Use `plot_forecast` and `regression_metrics_ts` to evaluate the model\n",
    "- Examine `model.summary()`\n",
    "- Examine `model.plot_diagnostics()`"
   ]
  },
  {
   "cell_type": "code",
   "execution_count": null,
   "id": "cb0cf744-f69f-4384-a13a-692116ce5faa",
   "metadata": {},
   "outputs": [],
   "source": [
    "# Initial model\n",
    "\n",
    "# Orders for non seasonal components\n",
    "p =   # nonseasonal AR\n",
    "d =   # nonseasonal differencing\n",
    "q =   # nonseasonal MA\n",
    "\n",
    "# Orders for seasonal components\n",
    "P =   # Seasonal AR\n",
    "D =   # Seasonal differencing\n",
    "Q =   # Seasonal MA\n",
    "m =   # Seasonal period\n",
    "\n",
    "model_1 = "
   ]
  },
  {
   "cell_type": "code",
   "execution_count": null,
   "id": "0a049c81-1c08-478c-b8ed-4fbb77b5b22f",
   "metadata": {},
   "outputs": [],
   "source": [
    "# Obtain summary of forecast as dataframe\n",
    "\n",
    "# Plot the forecast with true values\n",
    "\n",
    "# Obtain metrics\n"
   ]
  },
  {
   "cell_type": "code",
   "execution_count": null,
   "id": "c69b9b2f-ce7c-4f13-ba73-298bcf6fd5c0",
   "metadata": {},
   "outputs": [],
   "source": [
    "# Obtain summary\n"
   ]
  },
  {
   "cell_type": "code",
   "execution_count": null,
   "id": "caaa2b2d-2c67-4038-97cb-dc2828a41bd8",
   "metadata": {},
   "outputs": [],
   "source": [
    "# Obtain diagnostic plots\n"
   ]
  },
  {
   "cell_type": "markdown",
   "id": "ca554b3e-c01d-4197-be6a-a1487e245e99",
   "metadata": {},
   "source": [
    "## Fit alternative model using `auto_arima`\n",
    "\n",
    "- Use `pm.auto_arima` to fit a model using AIC as a selection metric\n",
    "    - Remember to set `seasonal=True` and `m=12`\n",
    "    - Use `trace=True` to display metrics\n",
    "- Check the best model order and seasonal order\n",
    "- Examine the `model.summary()` output\n",
    "- Examine `plot_diagnostics()`"
   ]
  },
  {
   "cell_type": "code",
   "execution_count": null,
   "id": "cd036545-ad2a-4a5e-b2db-e88db52a8a1e",
   "metadata": {},
   "outputs": [],
   "source": [
    "# Default auto_arima will select model based on AIC score\n"
   ]
  },
  {
   "cell_type": "code",
   "execution_count": null,
   "id": "90a5a614-90d5-4d19-a9c7-a596d9ca9c4f",
   "metadata": {},
   "outputs": [],
   "source": [
    "# the auto_arima will store our best nonseasonal and seasonal orders separtely\n"
   ]
  },
  {
   "cell_type": "code",
   "execution_count": null,
   "id": "03afaace-a77f-4bac-b0ec-7178ae91c68e",
   "metadata": {},
   "outputs": [],
   "source": [
    "# Obtain summary of the best model from auto_arima\n"
   ]
  },
  {
   "cell_type": "code",
   "execution_count": null,
   "id": "66e43629-ce85-4e42-84e8-73c77cff0da6",
   "metadata": {},
   "outputs": [],
   "source": [
    "# Obtain diagnostic plots\n"
   ]
  },
  {
   "cell_type": "markdown",
   "id": "ddf89f69-2259-45a0-a30c-d45d82a738ab",
   "metadata": {},
   "source": [
    "## New ARIMA with best orders as by `auto_arima`\n",
    "\n",
    "- Use `auto_model.order` and `auto_model.seasonal_order` to create an ARIMA model\n",
    "- Evaluate the model forecast\n",
    "- Which model is best?"
   ]
  },
  {
   "cell_type": "code",
   "execution_count": null,
   "id": "7e17dfe8-c58b-49a4-acef-f59c3c8aa802",
   "metadata": {},
   "outputs": [],
   "source": [
    "# Use auto_arima parameters to fit an ARIMA\n",
    "\n",
    "\n",
    "# Obtain forecast as a dataframe with confidence intervals\n",
    "\n",
    "# Call the custom function to plot the forecasts with confidence intervals and true values\n",
    "\n",
    "# Obtain metrics\n"
   ]
  },
  {
   "cell_type": "code",
   "execution_count": null,
   "id": "cfed55c3-36f0-43c8-892a-08f9854db9ed",
   "metadata": {},
   "outputs": [],
   "source": [
    "# Use auto_arima parameters to fit an ARIMA\n",
    "\n",
    "\n",
    "# Obtain future forecasts beyond test data\n"
   ]
  },
  {
   "cell_type": "code",
   "execution_count": null,
   "id": "37282aac-899b-4168-b128-3aaa1db718fd",
   "metadata": {},
   "outputs": [],
   "source": [
    "# Forecast mean:\n"
   ]
  },
  {
   "cell_type": "code",
   "execution_count": null,
   "id": "fb7e6e75-7fc0-43c9-b827-5350289f256d",
   "metadata": {},
   "outputs": [],
   "source": [
    "# Month with Maximum popularity forecasted for next year\n"
   ]
  },
  {
   "cell_type": "code",
   "execution_count": null,
   "id": "77453609-b543-4fe8-bccd-3823db5a084c",
   "metadata": {},
   "outputs": [],
   "source": [
    "# Month with Minmum popularity next year\n"
   ]
  },
  {
   "cell_type": "markdown",
   "id": "5a1c7b8c-26b1-457c-a9a6-e724183365bf",
   "metadata": {},
   "source": [
    "# Final model\n",
    "The metrics for the initial model and auto model are similar. We choose the auto arima model because it had a slightly lower AIC and BIC, reduced significant correlations in the residuals, and the additional coefficients were significant."
   ]
  }
 ],
 "metadata": {
  "kernelspec": {
   "display_name": "Python 3 (ipykernel)",
   "language": "python",
   "name": "python3"
  },
  "language_info": {
   "codemirror_mode": {
    "name": "ipython",
    "version": 3
   },
   "file_extension": ".py",
   "mimetype": "text/x-python",
   "name": "python",
   "nbconvert_exporter": "python",
   "pygments_lexer": "ipython3",
   "version": "3.10.10"
  },
  "widgets": {
   "application/vnd.jupyter.widget-state+json": {
    "state": {},
    "version_major": 2,
    "version_minor": 0
   }
  }
 },
 "nbformat": 4,
 "nbformat_minor": 5
}
